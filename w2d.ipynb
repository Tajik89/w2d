{
 "cells": [
  {
   "cell_type": "code",
   "execution_count": 1,
   "id": "8610336c-fbaa-44ad-8c98-2168c3c60008",
   "metadata": {},
   "outputs": [],
   "source": [
    "import random as rd\n",
    "import numpy as np\n",
    "import pandas as pd"
   ]
  },
  {
   "cell_type": "code",
   "execution_count": 2,
   "id": "7280b1d4-fb56-41e3-bdce-91aa4284b518",
   "metadata": {},
   "outputs": [],
   "source": [
    "# import Libery"
   ]
  },
  {
   "cell_type": "code",
   "execution_count": 13,
   "id": "7db076ab-9bfc-46aa-8660-d16df8a61b78",
   "metadata": {},
   "outputs": [],
   "source": [
    "def randw2d(file_name) :\n",
    "    wether = str(rd.randint(10**9, 10**9*(20)))\n",
    "    with open(file_name, 'w') as f :\n",
    "        f.write(wether)"
   ]
  },
  {
   "cell_type": "code",
   "execution_count": 14,
   "id": "89395cc8-238b-4b7e-aa64-1bb0a6944b71",
   "metadata": {},
   "outputs": [],
   "source": [
    "# this Func make some random number and put it in Ur File"
   ]
  },
  {
   "cell_type": "code",
   "execution_count": 15,
   "id": "a91801c2-2b05-4d84-9da1-10e605d502f5",
   "metadata": {},
   "outputs": [],
   "source": [
    "def meanw2d(file_name, s=0) :\n",
    "    with open(file_name, 'r') as f :\n",
    "        num = f.read()\n",
    "        lst_num = list(num)\n",
    "        arr_num = np.array(lst_num)\n",
    "        for i in range(1, 4) :\n",
    "            for j in arr_num :\n",
    "                s += int(j)\n",
    "            avg = int(s / len(lst_num))\n",
    "            lst_num.append(avg)\n",
    "            arr_num = np.array(lst_num)\n",
    "        return arr_num"
   ]
  },
  {
   "cell_type": "code",
   "execution_count": 16,
   "id": "0f757d7b-7105-41fb-b35c-703ee8ea6ccb",
   "metadata": {},
   "outputs": [],
   "source": [
    "# This Func made array with Ur data plus 3 new data"
   ]
  },
  {
   "cell_type": "code",
   "execution_count": 17,
   "id": "1108905f-1e79-4478-8cb5-765f33ee2430",
   "metadata": {},
   "outputs": [],
   "source": [
    "def pandw2d(arr_num) :\n",
    "    data = pd.DataFrame(arr_num)\n",
    "    return str(data)"
   ]
  },
  {
   "cell_type": "code",
   "execution_count": 18,
   "id": "73179161-2c66-4cd3-8a2c-9cd69b08a8e3",
   "metadata": {},
   "outputs": [],
   "source": [
    "# This Func is make Pandas Data Frame with array num data"
   ]
  },
  {
   "cell_type": "code",
   "execution_count": 19,
   "id": "33b10841-b787-48ed-932e-d6c8d5254912",
   "metadata": {},
   "outputs": [],
   "source": [
    "def w2d_append(file_name, pand) :\n",
    "    with open(file_name, 'a') as f :\n",
    "        f.write(pand)"
   ]
  },
  {
   "cell_type": "code",
   "execution_count": 20,
   "id": "7558f1e0-0a3a-4e90-8b52-a990bb3a82a4",
   "metadata": {},
   "outputs": [],
   "source": [
    "# This Func is append the pandas Data Frame in Ur file"
   ]
  },
  {
   "cell_type": "code",
   "execution_count": 21,
   "id": "5807fd27-f3de-480f-ba5d-2f22471b5b0d",
   "metadata": {},
   "outputs": [],
   "source": [
    "randw2d('wetherdata.txt')\n",
    "arr = meanw2d('wetherdata.txt')\n",
    "data_pand = pandw2d(arr)\n",
    "w2d_append('wetherdata.txt', data_pand)"
   ]
  },
  {
   "cell_type": "code",
   "execution_count": 13,
   "id": "f90c151f-0f3f-464f-9e9b-027c6b9e4b4e",
   "metadata": {},
   "outputs": [],
   "source": [
    "# They are Example ^^"
   ]
  }
 ],
 "metadata": {
  "kernelspec": {
   "display_name": "Python 3 (ipykernel)",
   "language": "python",
   "name": "python3"
  },
  "language_info": {
   "codemirror_mode": {
    "name": "ipython",
    "version": 3
   },
   "file_extension": ".py",
   "mimetype": "text/x-python",
   "name": "python",
   "nbconvert_exporter": "python",
   "pygments_lexer": "ipython3",
   "version": "3.12.4"
  }
 },
 "nbformat": 4,
 "nbformat_minor": 5
}
